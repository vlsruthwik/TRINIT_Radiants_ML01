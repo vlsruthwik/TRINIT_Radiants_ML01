{
  "nbformat": 4,
  "nbformat_minor": 0,
  "metadata": {
    "colab": {
      "name": "COVID-19 CHATBOT.ipynb",
      "provenance": [],
      "collapsed_sections": []
    },
    "kernelspec": {
      "name": "python3",
      "display_name": "Python 3"
    },
    "language_info": {
      "name": "python"
    }
  },
  "cells": [
    {
      "cell_type": "markdown",
      "source": [
        "# COVID-19 CHATBOT"
      ],
      "metadata": {
        "id": "uvAuHzCAZyBy"
      }
    },
    {
      "cell_type": "code",
      "source": [
        "!pip install allennlp==1.0.0 allennlp-models==1.0.0"
      ],
      "metadata": {
        "colab": {
          "base_uri": "https://localhost:8080/"
        },
        "id": "uTFcEN7cZ3XY",
        "outputId": "5d4a5842-824a-4029-d3d0-226e76a61437"
      },
      "execution_count": null,
      "outputs": [
        {
          "output_type": "stream",
          "name": "stdout",
          "text": [
            "Requirement already satisfied: allennlp==1.0.0 in /usr/local/lib/python3.7/dist-packages (1.0.0)\n",
            "Requirement already satisfied: allennlp-models==1.0.0 in /usr/local/lib/python3.7/dist-packages (1.0.0)\n",
            "Requirement already satisfied: tqdm>=4.19 in /usr/local/lib/python3.7/dist-packages (from allennlp==1.0.0) (4.62.3)\n",
            "Requirement already satisfied: scipy in /usr/local/lib/python3.7/dist-packages (from allennlp==1.0.0) (1.4.1)\n",
            "Requirement already satisfied: scikit-learn in /usr/local/lib/python3.7/dist-packages (from allennlp==1.0.0) (1.0.2)\n",
            "Requirement already satisfied: pytest in /usr/local/lib/python3.7/dist-packages (from allennlp==1.0.0) (3.6.4)\n",
            "Requirement already satisfied: jsonpickle in /usr/local/lib/python3.7/dist-packages (from allennlp==1.0.0) (2.1.0)\n",
            "Requirement already satisfied: boto3 in /usr/local/lib/python3.7/dist-packages (from allennlp==1.0.0) (1.20.46)\n",
            "Requirement already satisfied: transformers<2.12,>=2.9 in /usr/local/lib/python3.7/dist-packages (from allennlp==1.0.0) (2.11.0)\n",
            "Requirement already satisfied: h5py in /usr/local/lib/python3.7/dist-packages (from allennlp==1.0.0) (3.1.0)\n",
            "Requirement already satisfied: nltk in /usr/local/lib/python3.7/dist-packages (from allennlp==1.0.0) (3.2.5)\n",
            "Requirement already satisfied: overrides==3.0.0 in /usr/local/lib/python3.7/dist-packages (from allennlp==1.0.0) (3.0.0)\n",
            "Requirement already satisfied: jsonnet>=0.10.0 in /usr/local/lib/python3.7/dist-packages (from allennlp==1.0.0) (0.18.0)\n",
            "Requirement already satisfied: numpy in /usr/local/lib/python3.7/dist-packages (from allennlp==1.0.0) (1.19.5)\n",
            "Requirement already satisfied: tensorboardX>=1.2 in /usr/local/lib/python3.7/dist-packages (from allennlp==1.0.0) (2.4.1)\n",
            "Requirement already satisfied: spacy<2.3,>=2.1.0 in /usr/local/lib/python3.7/dist-packages (from allennlp==1.0.0) (2.2.4)\n",
            "Requirement already satisfied: requests>=2.18 in /usr/local/lib/python3.7/dist-packages (from allennlp==1.0.0) (2.23.0)\n",
            "Requirement already satisfied: filelock<3.1,>=3.0 in /usr/local/lib/python3.7/dist-packages (from allennlp==1.0.0) (3.0.12)\n",
            "Requirement already satisfied: torch<1.6.0,>=1.5.0 in /usr/local/lib/python3.7/dist-packages (from allennlp==1.0.0) (1.5.1)\n",
            "Requirement already satisfied: py-rouge==1.1 in /usr/local/lib/python3.7/dist-packages (from allennlp-models==1.0.0) (1.1)\n",
            "Requirement already satisfied: conllu==3.0 in /usr/local/lib/python3.7/dist-packages (from allennlp-models==1.0.0) (3.0)\n",
            "Requirement already satisfied: word2number>=1.1 in /usr/local/lib/python3.7/dist-packages (from allennlp-models==1.0.0) (1.1)\n",
            "Requirement already satisfied: chardet<4,>=3.0.2 in /usr/local/lib/python3.7/dist-packages (from requests>=2.18->allennlp==1.0.0) (3.0.4)\n",
            "Requirement already satisfied: idna<3,>=2.5 in /usr/local/lib/python3.7/dist-packages (from requests>=2.18->allennlp==1.0.0) (2.10)\n",
            "Requirement already satisfied: certifi>=2017.4.17 in /usr/local/lib/python3.7/dist-packages (from requests>=2.18->allennlp==1.0.0) (2021.10.8)\n",
            "Requirement already satisfied: urllib3!=1.25.0,!=1.25.1,<1.26,>=1.21.1 in /usr/local/lib/python3.7/dist-packages (from requests>=2.18->allennlp==1.0.0) (1.25.11)\n",
            "Requirement already satisfied: catalogue<1.1.0,>=0.0.7 in /usr/local/lib/python3.7/dist-packages (from spacy<2.3,>=2.1.0->allennlp==1.0.0) (1.0.0)\n",
            "Requirement already satisfied: plac<1.2.0,>=0.9.6 in /usr/local/lib/python3.7/dist-packages (from spacy<2.3,>=2.1.0->allennlp==1.0.0) (1.1.3)\n",
            "Requirement already satisfied: blis<0.5.0,>=0.4.0 in /usr/local/lib/python3.7/dist-packages (from spacy<2.3,>=2.1.0->allennlp==1.0.0) (0.4.1)\n",
            "Requirement already satisfied: setuptools in /usr/local/lib/python3.7/dist-packages (from spacy<2.3,>=2.1.0->allennlp==1.0.0) (57.4.0)\n",
            "Requirement already satisfied: thinc==7.4.0 in /usr/local/lib/python3.7/dist-packages (from spacy<2.3,>=2.1.0->allennlp==1.0.0) (7.4.0)\n",
            "Requirement already satisfied: preshed<3.1.0,>=3.0.2 in /usr/local/lib/python3.7/dist-packages (from spacy<2.3,>=2.1.0->allennlp==1.0.0) (3.0.6)\n",
            "Requirement already satisfied: srsly<1.1.0,>=1.0.2 in /usr/local/lib/python3.7/dist-packages (from spacy<2.3,>=2.1.0->allennlp==1.0.0) (1.0.5)\n",
            "Requirement already satisfied: murmurhash<1.1.0,>=0.28.0 in /usr/local/lib/python3.7/dist-packages (from spacy<2.3,>=2.1.0->allennlp==1.0.0) (1.0.6)\n",
            "Requirement already satisfied: cymem<2.1.0,>=2.0.2 in /usr/local/lib/python3.7/dist-packages (from spacy<2.3,>=2.1.0->allennlp==1.0.0) (2.0.6)\n",
            "Requirement already satisfied: wasabi<1.1.0,>=0.4.0 in /usr/local/lib/python3.7/dist-packages (from spacy<2.3,>=2.1.0->allennlp==1.0.0) (0.9.0)\n",
            "Requirement already satisfied: importlib-metadata>=0.20 in /usr/local/lib/python3.7/dist-packages (from catalogue<1.1.0,>=0.0.7->spacy<2.3,>=2.1.0->allennlp==1.0.0) (4.10.1)\n",
            "Requirement already satisfied: zipp>=0.5 in /usr/local/lib/python3.7/dist-packages (from importlib-metadata>=0.20->catalogue<1.1.0,>=0.0.7->spacy<2.3,>=2.1.0->allennlp==1.0.0) (3.7.0)\n",
            "Requirement already satisfied: typing-extensions>=3.6.4 in /usr/local/lib/python3.7/dist-packages (from importlib-metadata>=0.20->catalogue<1.1.0,>=0.0.7->spacy<2.3,>=2.1.0->allennlp==1.0.0) (3.10.0.2)\n",
            "Requirement already satisfied: protobuf>=3.8.0 in /usr/local/lib/python3.7/dist-packages (from tensorboardX>=1.2->allennlp==1.0.0) (3.17.3)\n",
            "Requirement already satisfied: six>=1.9 in /usr/local/lib/python3.7/dist-packages (from protobuf>=3.8.0->tensorboardX>=1.2->allennlp==1.0.0) (1.15.0)\n",
            "Requirement already satisfied: future in /usr/local/lib/python3.7/dist-packages (from torch<1.6.0,>=1.5.0->allennlp==1.0.0) (0.16.0)\n",
            "Requirement already satisfied: sentencepiece in /usr/local/lib/python3.7/dist-packages (from transformers<2.12,>=2.9->allennlp==1.0.0) (0.1.96)\n",
            "Requirement already satisfied: regex!=2019.12.17 in /usr/local/lib/python3.7/dist-packages (from transformers<2.12,>=2.9->allennlp==1.0.0) (2019.12.20)\n",
            "Requirement already satisfied: packaging in /usr/local/lib/python3.7/dist-packages (from transformers<2.12,>=2.9->allennlp==1.0.0) (21.3)\n",
            "Requirement already satisfied: tokenizers==0.7.0 in /usr/local/lib/python3.7/dist-packages (from transformers<2.12,>=2.9->allennlp==1.0.0) (0.7.0)\n",
            "Requirement already satisfied: sacremoses in /usr/local/lib/python3.7/dist-packages (from transformers<2.12,>=2.9->allennlp==1.0.0) (0.0.47)\n",
            "Requirement already satisfied: botocore<1.24.0,>=1.23.46 in /usr/local/lib/python3.7/dist-packages (from boto3->allennlp==1.0.0) (1.23.46)\n",
            "Requirement already satisfied: jmespath<1.0.0,>=0.7.1 in /usr/local/lib/python3.7/dist-packages (from boto3->allennlp==1.0.0) (0.10.0)\n",
            "Requirement already satisfied: s3transfer<0.6.0,>=0.5.0 in /usr/local/lib/python3.7/dist-packages (from boto3->allennlp==1.0.0) (0.5.0)\n",
            "Requirement already satisfied: python-dateutil<3.0.0,>=2.1 in /usr/local/lib/python3.7/dist-packages (from botocore<1.24.0,>=1.23.46->boto3->allennlp==1.0.0) (2.8.2)\n",
            "Requirement already satisfied: cached-property in /usr/local/lib/python3.7/dist-packages (from h5py->allennlp==1.0.0) (1.5.2)\n",
            "Requirement already satisfied: pyparsing!=3.0.5,>=2.0.2 in /usr/local/lib/python3.7/dist-packages (from packaging->transformers<2.12,>=2.9->allennlp==1.0.0) (3.0.7)\n",
            "Requirement already satisfied: attrs>=17.4.0 in /usr/local/lib/python3.7/dist-packages (from pytest->allennlp==1.0.0) (21.4.0)\n",
            "Requirement already satisfied: more-itertools>=4.0.0 in /usr/local/lib/python3.7/dist-packages (from pytest->allennlp==1.0.0) (8.12.0)\n",
            "Requirement already satisfied: py>=1.5.0 in /usr/local/lib/python3.7/dist-packages (from pytest->allennlp==1.0.0) (1.11.0)\n",
            "Requirement already satisfied: pluggy<0.8,>=0.5 in /usr/local/lib/python3.7/dist-packages (from pytest->allennlp==1.0.0) (0.7.1)\n",
            "Requirement already satisfied: atomicwrites>=1.0 in /usr/local/lib/python3.7/dist-packages (from pytest->allennlp==1.0.0) (1.4.0)\n",
            "Requirement already satisfied: click in /usr/local/lib/python3.7/dist-packages (from sacremoses->transformers<2.12,>=2.9->allennlp==1.0.0) (7.1.2)\n",
            "Requirement already satisfied: joblib in /usr/local/lib/python3.7/dist-packages (from sacremoses->transformers<2.12,>=2.9->allennlp==1.0.0) (1.1.0)\n",
            "Requirement already satisfied: threadpoolctl>=2.0.0 in /usr/local/lib/python3.7/dist-packages (from scikit-learn->allennlp==1.0.0) (3.0.0)\n"
          ]
        }
      ]
    },
    {
      "cell_type": "code",
      "source": [
        "import requests \n",
        "import bs4\n",
        "\n",
        "from allennlp.predictors.predictor import Predictor\n",
        "predictor = Predictor.from_path(\"https://storage.googleapis.com/allennlp-public-models/bidaf-model-2020.03.19.tar.gz\")\n",
        "\n",
        "import nltk\n",
        "\n",
        "from nltk.stem.snowball import SnowballStemmer\n",
        "stemmer = SnowballStemmer('english', ignore_stopwords=False)\n",
        "\n",
        "from nltk.stem import WordNetLemmatizer\n",
        "lemmitizer = WordNetLemmatizer()"
      ],
      "metadata": {
        "id": "fSARGnfiZ-W6"
      },
      "execution_count": null,
      "outputs": []
    },
    {
      "cell_type": "code",
      "source": [
        "question = input()"
      ],
      "metadata": {
        "colab": {
          "base_uri": "https://localhost:8080/"
        },
        "id": "2xSkyZdbci1i",
        "outputId": "86dd289b-5987-4f36-d493-088483366d24"
      },
      "execution_count": null,
      "outputs": [
        {
          "name": "stdout",
          "output_type": "stream",
          "text": [
            "what is covaxine\n"
          ]
        }
      ]
    },
    {
      "cell_type": "markdown",
      "source": [
        "### Google Search"
      ],
      "metadata": {
        "id": "uiHa9dBHh59b"
      }
    },
    {
      "cell_type": "code",
      "source": [
        "from googlesearch import search\n",
        "\n",
        "result_links = []\n",
        "\n",
        "for res in search(question, tld=\"co.in\", num=3, stop=3):\n",
        "  result_links.append(res)"
      ],
      "metadata": {
        "id": "JaTBApMWh71k"
      },
      "execution_count": null,
      "outputs": []
    },
    {
      "cell_type": "markdown",
      "source": [
        "### Web scraping part"
      ],
      "metadata": {
        "id": "qqrWLozBbIeU"
      }
    },
    {
      "cell_type": "code",
      "source": [
        "Reference_text = \"\"\n",
        "for link in result_links:\n",
        "  try:\n",
        "    req = requests.get(link,timeout=5)\n",
        "  except:\n",
        "    continue\n",
        "  soup = bs4.BeautifulSoup(req.text,\"html.parser\")\n",
        "  for i in soup.find_all('p'):\n",
        "    try:\n",
        "      Reference_text += i.text\n",
        "    except:\n",
        "      continue"
      ],
      "metadata": {
        "id": "IU5KQhN6lCmW"
      },
      "execution_count": null,
      "outputs": []
    },
    {
      "cell_type": "code",
      "source": [
        "Reference_text = Reference_text.replace('\\n',' ').strip().split('.')"
      ],
      "metadata": {
        "id": "dHF7NY6KwBoi"
      },
      "execution_count": null,
      "outputs": []
    },
    {
      "cell_type": "markdown",
      "source": [
        "### Results"
      ],
      "metadata": {
        "id": "EjnsSGcCy_Bn"
      }
    },
    {
      "cell_type": "code",
      "source": [
        "def top_sentences(s):\n",
        "    s = s.split()\n",
        "    s = [stemmer.stem(word) for word in s]\n",
        "    s = [lemmitizer.lemmatize(word,pos='a') for word in s]\n",
        "#     s = [word for word in s if not word in stop_words]\n",
        "    res=[]\n",
        "    max_match = 0\n",
        "    max_index = 0\n",
        "    for i,v in enumerate(Reference_text):\n",
        "        t = len(set(s)&set(v))\n",
        "        if t>max_match:\n",
        "            max_match = t\n",
        "            max_index = i\n",
        "    for i,v in enumerate(Reference_text):\n",
        "      t = len(set(s)&set(v))\n",
        "      if max_match==t:\n",
        "        res.append(Reference_text[i])\n",
        "    return '.'.join(res)"
      ],
      "metadata": {
        "id": "uHMGcRpp6eMK"
      },
      "execution_count": null,
      "outputs": []
    },
    {
      "cell_type": "code",
      "source": [
        "result = predictor.predict(\n",
        "    passage = top_sentences(question),\n",
        "    question = question\n",
        ")\n",
        "print(result['best_span_str'])"
      ],
      "metadata": {
        "colab": {
          "base_uri": "https://localhost:8080/"
        },
        "id": "F5i9hL9kzAcU",
        "outputId": "aa802a67-c1fc-4719-b60b-a0339cb52653"
      },
      "execution_count": null,
      "outputs": [
        {
          "output_type": "stream",
          "name": "stdout",
          "text": [
            "aluminium-based adjuvant Alhydroxiquim-II.[8][9] The vaccine candidate is produced with Bharat Biotech's in-house vero cell manufacturing platform[10] that has the capacity to deliver about 300 million doses.[11] The company is in the process of setting up a second plant at its Genome Valley facility in Hyderabad to make Covaxin. The firm in collaboration with Government of Odisha is establishing another facility at Odisha Biotech Park in Bhubaneswar to commence Covaxin production by June 2022.[12][13] Besides this, they are also exploring global tie-ups for Covaxin manufacturing.[14] In December 2020, Ocugen entered into a partnership with Bharat Biotech to co-develop and exclusively commercialise Covaxin in the US market;[15][16] in June 2021, the partnership was extended to cover Canada.[17] In January 2021, Precisa Med entered into an agreement with Bharat Biotech to supply Covaxin to Brazil.[18] In May 2021, Haffkine Bio-Pharmaceutical Corporation Limited of Haffkine Institute entered into a memorandum of understanding (MoU) with Bharat Biotech and announced that the production of Covaxin by them will commence after obtaining support from the Maharashtra state government and approval from the Indian government[19] whereas Indian Immunologicals Limited (IIL) has signed a commercial agreement with Bharat Biotech for producing the drug substance, a critical component of the vaccine[20] Bharat Immunologicals and Biologicals Corporation (BIBCOL) will also manufacture the vaccine.[21] In May 2020, Indian Council of Medical Research's (ICMR's) National Institute of Virology approved and provided the virus strains for developing a fully indigenous COVID-19 vaccine.[22][23] In June 2020, the company received permission to conduct Phase I and Phase II human trials of a developmental COVID-19 vaccine codenamed BBV152, from the Drugs Controller General of India (DCGI), Government of India.[24] A total of 12 sites were selected by the Indian Council for Medical Research for Phase I and II randomised, double-blind and placebo-controlled clinical trials of vaccine candidate.[25][26][27] In January 2021, the company published Phase I trial results in The Lancet.[28] On 8 March 2021, Phase II results were published in The Lancet. The study showed that Phase II trials had a higher immune response and induced T-cell response due to the difference in dosing regime from Phase I. The doses in Phase II were given at 4 weeks interval as opposed to 2 weeks in Phase I. Neutralization response of the vaccine were found significantly higher in Phase II.[29] In November 2020, Covaxin received the approval to conduct Phase III human trials[30] after completion of Phase I and II.[31] A randomised, double-blinded, placebo-controlled study among volunteers of age group 18 and above, it started on 25 November and involved around 26,000 volunteers from across 22 sites in India.[32][33][34] Refusal rate for Phase III trials was much higher than that for Phase I and Phase II. As a result, only 13,000 volunteers had been recruited by 22 December with the number increasing to 23,000 by 5 January.[35][36] Multiple ethical breaches have been reported at one of their trial sites in Bhopal, potentially hampering the quality of overall data.[37][38][39][40] In June 2021, Bharat Biotech announced the start of phase IV trials to evaluate the vaccine's real-world effectiveness.[41] A study of effectiveness and hesitancy study in Healthcare Workers of Max Group of Hospitals at New Delhi from Covaxin and Covishied is under trials.[42] In May 2021, Drugs Controller General of India (DCGI) approved clinical trials in the age group of 2 to 18 years.[43] The trials are conducted at AIIMS Delhi and Patna.[44] As many as 54 children had registered at the AIIMS Patna.[45] In total 525 participants are enrolled in the study as per clinical trial data.[46] In December 2020, the Alpha variant or lineage B.1.1.7, was identified in the UK.[47] An in vitro study on this variant was carried out and preliminary results show Covaxin to be effective in neutralizing this strain.[48] In April 2021, the Indian Council of Medical Research reported that the vaccine has shown promising results in neutralizing lineage B.1.617.[49][50] In May 2021, a joint investigation by the scientists of National Institute of Virology (NIV) India, found the vaccine effective in neutralizing the Zeta variant or lineage P.2 (previously known as B.1.1.28).[51] In June 2021, a group of researchers at the National Institute of Virology (NIV) India, collected sera from recovered patients and  people who had received the Covaxin. They found the vaccine to be effective in neutralizing the Delta (B.1.617.2) and Beta (B.1.351) variants.[52][53] Later, the US National Institute of Health also approved the findings where the adjuvant used was developed jointly with funding from NIH.[54][9] On 6 December 2020, Bharat Biotech applied to the Drugs Controller General of India (DCGI), seeking emergency use authorization.[55] It was the third firm after Serum Institute of India and Pfizer to apply under such provision.[56] On 2 January 2021, the Central Drugs Standard Control Organization (CDSCO) recommended permission,[57] which was granted the next day.[58] Covaxin was to be used in a \"clinical trial mode\" i.e. the public vaccination drive was to be an open-label, single-arm clinical trial in itself.[59] This emergency approval, granted without considering Phase III trial data concerning efficacy and safety, drew widespread criticism.[60][61][62] On 12 October 2021, Bharat Biotech's Covaxin got approved for usage on children between 2 and 18 years of age.[63] The vaccine was also approved for emergency use in Iran and Zimbabwe.[64][65] Nepal granted EUA for Covaxin on 19 March 2021.[66] On 7 April, Mexico gave emergency authorization for Covaxin.[67] On 19 April 2021, Philippines granted EUA to Covaxin.[68] Additionally, Covaxin was granted EUA in Guatemala, Nicaragua, Guyana, Venezuela and Botswana.[69] On 31 March, the Brazilian health regulator Anvisa rejected Bharat Biotech's application for supplying Covaxin in the country due to non-compliance with manufacturing norms. Bharat Biotech stated that they would re-apply after meeting the requirements.[70] On June 4, Anvisa approved exceptional imports of Covaxin, imposing conditions that restrict it mainly to healthy adults and limiting it to just 1% of the country's population to manage the risks through control and supervision of side effects. Anvisa cited as main concerns the incomplete phase III study, a short 45-day follow-up, which should be 60 days to meet the international consensus, and a novel imidazoquinoline adjuvant that may increase the chance of developing an autoimmune disease.[71][72][73\n"
          ]
        }
      ]
    },
    {
      "cell_type": "code",
      "source": [
        ""
      ],
      "metadata": {
        "id": "Mvxa-tXL_6uN"
      },
      "execution_count": null,
      "outputs": []
    }
  ]
}